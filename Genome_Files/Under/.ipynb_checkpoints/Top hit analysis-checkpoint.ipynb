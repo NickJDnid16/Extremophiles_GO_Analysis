{
 "cells": [
  {
   "cell_type": "code",
   "execution_count": null,
   "metadata": {
    "collapsed": true
   },
   "outputs": [],
   "source": [
    "import HTSeq\n",
    "import glob\n",
    "import seaborn\n",
    "import matplotlib.pyplot as plt\n",
    "import numpy\n",
    "from scipy.stats.stats import pearsonr\n"
   ]
  },
  {
   "cell_type": "code",
   "execution_count": null,
   "metadata": {
    "collapsed": true
   },
   "outputs": [],
   "source": [
    "top_hit = {}\n",
    "\n",
    "for cfile in glob.glob('*.m8'):\n",
    "    print cfile\n",
    "    for line in open(cfile,'r'):\n",
    "        timber = line.split('\\t')\n",
    "        query = cfile + timber[0]\n",
    "        hit = timber[1].split('|')[1]\n",
    "        bit = float(timber[11].replace('\\n',''))\n",
    "        \n",
    "        if query in top_hit:\n",
    "            prev = top_hit[query]\n",
    "            if bit > prev[0]:\n",
    "                top_hit[query] = [bit,hit]\n",
    "            else:\n",
    "                continue\n",
    "        else:\n",
    "            top_hit[query] = [bit,hit]\n",
    "        "
   ]
  },
  {
   "cell_type": "code",
   "execution_count": null,
   "metadata": {
    "collapsed": true
   },
   "outputs": [],
   "source": [
    "unique_hits = []\n",
    "\n",
    "for k,v in top_hit.iteritems():\n",
    "    if v[1] in unique_hits:\n",
    "        continue\n",
    "    else:\n",
    "        unique_hits.append(v[1])\n"
   ]
  },
  {
   "cell_type": "code",
   "execution_count": null,
   "metadata": {
    "collapsed": true
   },
   "outputs": [],
   "source": [
    "outputting = open('Unique_genes.txt','w')\n",
    "for i in unique_hits:\n",
    "    outputting.write(i + '\\n')\n",
    "outputting.close()"
   ]
  },
  {
   "cell_type": "code",
   "execution_count": null,
   "metadata": {
    "collapsed": true
   },
   "outputs": [],
   "source": []
  }
 ],
 "metadata": {
  "kernelspec": {
   "display_name": "Python 2",
   "language": "python",
   "name": "python2"
  }
 },
 "nbformat": 4,
 "nbformat_minor": 0
}
